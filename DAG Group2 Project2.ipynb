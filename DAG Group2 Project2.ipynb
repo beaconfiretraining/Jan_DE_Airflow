{
 "cells": [
  {
   "cell_type": "code",
   "execution_count": null,
   "id": "b8ff6a28",
   "metadata": {},
   "outputs": [],
   "source": [
    "import os\n",
    "from datetime import datetime\n",
    "from airflow import DAG\n",
    "from airflow.providers.snowflake.operators.snowflake import SnowflakeOperator"
   ]
  },
  {
   "cell_type": "code",
   "execution_count": 1,
   "id": "7f18a860",
   "metadata": {},
   "outputs": [],
   "source": [
    "SNOWFLAKE_CONN_ID = 'snowflake_conn'\n",
    "SNOWFLAKE_DATABASE = 'AIRFLOW0124'\n",
    "SNOWFLAKE_SCHEMA = 'BF_DEV'\n",
    "\n",
    "SNOWFLAKE_ROLE = 'BF_DEVELOPER0124'\n",
    "SNOWFLAKE_WAREHOUSE = 'BF_ETL0124'\n",
    "\n",
    "#SNOWFLAKE_STAGE = 's3_stage_testing'"
   ]
  },
  {
   "cell_type": "code",
   "execution_count": null,
   "id": "f3a4dfb8",
   "metadata": {},
   "outputs": [],
   "source": [
    "SNOWFLAKE_SAMPLE_TABLE = 'fact_Stock_History_Group2'\n",
    "# SQL commands\n",
    "CREATE_TABLE_SQL_STRING = (\n",
    "    f\"CREATE OR REPLACE TRANSIENT TABLE {SNOWFLAKE_SAMPLE_TABLE} (\n",
    "KEY  varchar(250) PRIMARY KEY,\n",
    "SYMBOl  VARCHAR(16) REFERENCES AIRFLOW0124.BF_DEV.\"Company_Profile_backup_G2\"(symbol),\n",
    "DATE  DATE,\n",
    "OPEN NUMBER(18,8),\n",
    "HIGH NUMBER(18,8),\n",
    "LOW  NUMBER(18,8),\n",
    "CLOSE  NUMBER(18,8),\n",
    "VOLUME  NUMBER(38,8),\n",
    "ADJCLOSe  NUMBER(18,8)\n",
    ");\n",
    "\n",
    "SQL_INSERT_STATEMENT_fact = f\"INSERT INTO {SNOWFLAKE_SAMPLE_TABLE} VALUES (select concat(symbol,date)as key,* from US_STOCK_DAILY.DCCM.Stock_History" )\"\n",

   ]
  },
  {
   "cell_type": "code",
   "execution_count": null,
   "id": "b4ca1c65",
   "metadata": {},
   "outputs": [],
   "source": [
    "DAG_ID = \"Assignment2_Stock_History_g2\"\n",
    "# [START howto_operator_snowflake]\n",
    "\n",
    "with DAG(\n",
    "    DAG_ID,\n",
    "    start_date=datetime(2024, 1, 29),\n",
    "    schedule_interval='0 5 * * *',\n",
    "    default_args={'snowflake_conn_id': SNOWFLAKE_CONN_ID},\n",
    "    tags=['Stock_Histroy'],\n",
    "    catchup=True,\n",
    ") as dag:\n",
    "    # [START snowflake_example_dag]\n",
    "    snowflake_op_sql_str = SnowflakeOperator(\n",
    "        task_id='snowflake_op_sql_str',\n",
    "        sql=CREATE_TABLE_SQL_STRING,\n",
    "        warehouse=SNOWFLAKE_WAREHOUSE,\n",
    "        database=SNOWFLAKE_DATABASE,\n",
    "        schema=SNOWFLAKE_SCHEMA,\n",
    "        role=SNOWFLAKE_ROLE,\n",
    "    )"
   ]
  },
  {
   "cell_type": "code",
   "execution_count": null,
   "id": "f947a2e1",
   "metadata": {},
   "outputs": [],
   "source": [
    " snowflake_op_template_file = SnowflakeOperator(\n",
    "       task_id='snowflake_op_template_file',\n",
    "       sql='Assignment2_Stock_History_g2.sql',\n",
    "       split_statements=True,\n",
    "    )"
   ]
  },
  {
   "cell_type": "code",
   "execution_count": null,
   "id": "cf6b5d24",
   "metadata": {},
   "outputs": [],
   "source": [
    "snowflake_op_sql_str\n",
    "        >> [\n",
    "           snowflake_op_template_file,\n",
    "            # copy_into_table,\n",
    "        ]"
   ]
  }
 ],
 "metadata": {
  "kernelspec": {
   "display_name": "Python 3 (ipykernel)",
   "language": "python",
   "name": "python3"
  },
  "language_info": {
   "codemirror_mode": {
    "name": "ipython",
    "version": 3
   },
   "file_extension": ".py",
   "mimetype": "text/x-python",
   "name": "python",
   "nbconvert_exporter": "python",
   "pygments_lexer": "ipython3",
   "version": "3.9.13"
  }
 },
 "nbformat": 4,
 "nbformat_minor": 5
}
